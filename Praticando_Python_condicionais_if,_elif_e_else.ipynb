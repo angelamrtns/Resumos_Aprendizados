{
  "nbformat": 4,
  "nbformat_minor": 0,
  "metadata": {
    "colab": {
      "provenance": [],
      "name": "Praticando Python: condicionais if, elif e else.ipynb",
      "include_colab_link": true
    },
    "kernelspec": {
      "name": "python3",
      "display_name": "Python 3"
    },
    "language_info": {
      "name": "python"
    }
  },
  "cells": [
    {
      "cell_type": "markdown",
      "metadata": {
        "id": "view-in-github",
        "colab_type": "text"
      },
      "source": [
        "<a href=\"https://colab.research.google.com/github/angelamrtns/Resumos_Aprendizados/blob/main/Praticando_Python_condicionais_if%2C_elif_e_else.ipynb\" target=\"_parent\"><img src=\"https://colab.research.google.com/assets/colab-badge.svg\" alt=\"Open In Colab\"/></a>"
      ]
    },
    {
      "cell_type": "markdown",
      "source": [
        "#**Praticando Python: condicionais if, elif e else**"
      ],
      "metadata": {
        "id": "GL_eIhzEJkrO"
      }
    },
    {
      "cell_type": "markdown",
      "source": [
        "##01 - Monitorando vendas no comércio"
      ],
      "metadata": {
        "id": "59i32xfWKDBY"
      }
    },
    {
      "cell_type": "markdown",
      "source": [
        "Bruno gerencia um pequeno comércio e quer saber qual produto teve o melhor desempenho de vendas no mês passado. Ele registrou a quantidade vendida de dois produtos: maçãs e bananas. Agora, ele precisa escrever um programa que identifique e exiba qual deles teve maior venda.\n",
        "\n",
        "Crie um programa que receba o número de vendas dos dois produtos e exiba uma mensagem indicando qual deles vendeu mais. Se as quantidades forem iguais, exiba uma mensagem dizendo que houve empate.\n",
        "\n",
        "Saída esperada:\n",
        "\n",
        "![03.PNG](data:image/png;base64,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)"
      ],
      "metadata": {
        "id": "PD2yE01kKO9_"
      }
    },
    {
      "cell_type": "code",
      "execution_count": null,
      "metadata": {
        "colab": {
          "base_uri": "https://localhost:8080/"
        },
        "id": "36kJlE3eJaJt",
        "outputId": "410f58e0-7522-403e-81c8-3e0e109e7993"
      },
      "outputs": [
        {
          "output_type": "stream",
          "name": "stdout",
          "text": [
            "Digite a quantidade de maçãs vendidas: 15\n",
            "Digite a quantidade de bananas vendidas: 3\n",
            "As maçãs tiveram mais vendas.\n"
          ]
        }
      ],
      "source": [
        "venda_macas = int(input('Digite a quantidade de maçãs vendidas: '))\n",
        "venda_bananas = int(input('Digite a quantidade de bananas vendidas: '))\n",
        "\n",
        "if venda_macas > venda_bananas:\n",
        "  print('As maçãs tiveram mais vendas.')\n",
        "elif venda_macas < venda_bananas:\n",
        "  print('As bananas tiveram mais vendas.')\n",
        "else:\n",
        "  print('As maçãs e as bananas tiveram a mesma quantidade de vendas.')"
      ]
    },
    {
      "cell_type": "markdown",
      "source": [
        "##02 - Calculando o tempo total de projeto"
      ],
      "metadata": {
        "id": "ny-B-e8kP9QX"
      }
    },
    {
      "cell_type": "markdown",
      "source": [
        "Camila está organizando um projeto e precisa calcular o tempo total necessário para concluir três atividades: A, B e C. No entanto, se alguma atividade tiver um número de dias negativo, o código deve avisar que os valores inseridos são inválidos e não calcular o total.\n",
        "\n",
        "Escreva um programa que receba o número de dias de três atividades e exiba o tempo total do projeto. Se algum valor for negativo, mostre uma mensagem informando o erro.\n",
        "\n",
        "Saída esperada:\n",
        "\n",
        "![04.PNG](data:image/png;base64,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)"
      ],
      "metadata": {
        "id": "dNKPKUDuQG73"
      }
    },
    {
      "cell_type": "code",
      "source": [
        "atividade_A = int(input('Informe os dias para a atividade A: '))\n",
        "atividade_B = int(input('Informe os dias para a atividade B: '))\n",
        "atividade_C = int(input('Informe os dias para a atividade C: '))\n",
        "tempo_total = atividade_A + atividade_B + atividade_C\n",
        "\n",
        "if atividade_A < 0 or atividade_B < 0 or atividade_C < 0:\n",
        "  print('Os dias não pode ser negativos.')\n",
        "\n",
        "else:\n",
        "  print(f'O tempo total de projeto é de {tempo_total} dias.')"
      ],
      "metadata": {
        "colab": {
          "base_uri": "https://localhost:8080/"
        },
        "id": "-S9oSPtVJkXY",
        "outputId": "21a7f20c-1ede-4ea4-8ec2-237a28a904f8"
      },
      "execution_count": null,
      "outputs": [
        {
          "output_type": "stream",
          "name": "stdout",
          "text": [
            "Informe os dias para a atividade A: 5\n",
            "Informe os dias para a atividade B: -8\n",
            "Informe os dias para a atividade C: 10\n",
            "Os dias não pode ser negativos.\n"
          ]
        }
      ]
    },
    {
      "cell_type": "markdown",
      "source": [
        "##03 - Temperatura dos servidores"
      ],
      "metadata": {
        "id": "TI-EMnUdR9KC"
      }
    },
    {
      "cell_type": "markdown",
      "source": [
        "Lucas trabalha em TI e precisa garantir que a temperatura de uma sala de servidores não ultrapasse 25°C. Ele quer um programa que receba a temperatura atual como entrada e, se necessário, exiba uma mensagem de alerta.\n",
        "\n",
        "Saída esperada:\n",
        "\n",
        "![003.PNG](data:image/png;base64,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)"
      ],
      "metadata": {
        "id": "M4qYRdsOSSXy"
      }
    },
    {
      "cell_type": "code",
      "source": [
        "temp_atual = int(input('Informe a temperatura atual: '))\n",
        "\n",
        "if temp_atual > 25:\n",
        "  print('Alerta! Temperatura acima do limite permitido.')\n",
        "else:\n",
        "  print('Temperatura dentro do limite seguro.')"
      ],
      "metadata": {
        "colab": {
          "base_uri": "https://localhost:8080/"
        },
        "id": "ge_V1iSzSyMM",
        "outputId": "ac4b4090-5c4c-4406-b113-8773f7c6ffe9"
      },
      "execution_count": null,
      "outputs": [
        {
          "output_type": "stream",
          "name": "stdout",
          "text": [
            "Informe a temperatura atual: 26\n",
            "Alerta! Temperatura acima do limite permitido.\n"
          ]
        }
      ]
    },
    {
      "cell_type": "markdown",
      "source": [
        "##04 - Calculando o IMC"
      ],
      "metadata": {
        "id": "SN8O2mp3TR28"
      }
    },
    {
      "cell_type": "markdown",
      "source": [
        "Anna Júlia está criando um sistema para calcular o Índice de Massa Corporal (IMC) e fornecer recomendações básicas. O programa deve receber o peso e a altura de uma pessoa e exibir o valor do IMC, além de indicar se está abaixo do peso, com peso normal ou acima do peso. Crie um programa que receba o peso (em kg) e a altura (em metros) e calcule o IMC usando a fórmula: IMC = peso / (altura ** 2) Depois, exiba o valor do IMC e uma mensagem indicando se está abaixo do peso (IMC < 18.5), peso normal (18.5 <= IMC < 25) ou acima do peso (IMC >= 25).\n",
        "\n",
        "Saída esperada:\n",
        "\n",
        "![004.PNG](data:image/png;base64,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)"
      ],
      "metadata": {
        "id": "wN4vplreTZIU"
      }
    },
    {
      "cell_type": "code",
      "source": [
        "peso = float(input('Digite seu peso (kg): ').replace(',','.'))\n",
        "altura = float(input('Digite sua altura (m): ').replace(',','.'))\n",
        "imc = peso / (altura ** 2)\n",
        "\n",
        "print(f'Seu IMC é: {imc:.2f}')\n",
        "\n",
        "if imc < 18.5:\n",
        "  print('Você está abaixo do peso')\n",
        "elif 18.5 <= imc < 25:\n",
        "  print('Você está com peso normal')\n",
        "else:\n",
        "  print('Você está acima do peso')\n",
        "\n",
        "pesoideal1 = 18.5*(altura ** 2)\n",
        "pesoideal2 = 25*(altura ** 2)\n",
        "\n",
        "print(f\"O seu peso ideal seria entre {pesoideal1:.2f} kg á {pesoideal2:.2f} kg\")"
      ],
      "metadata": {
        "colab": {
          "base_uri": "https://localhost:8080/"
        },
        "id": "WsGQbV61TNLB",
        "outputId": "4ee19f02-38d8-4676-d2ff-e184005aa893"
      },
      "execution_count": null,
      "outputs": [
        {
          "output_type": "stream",
          "name": "stdout",
          "text": [
            "Digite seu peso (kg): 83\n",
            "Digite sua altura (m): 1,83\n",
            "Seu IMC é: 24.78\n",
            "Você está com peso normal\n",
            "O seu peso ideal seria entre 61.95 kg á 83.72 kg\n"
          ]
        }
      ]
    },
    {
      "cell_type": "markdown",
      "source": [
        "##05 - Controlando o orçamento mensal"
      ],
      "metadata": {
        "id": "tkPLhPz1TvA3"
      }
    },
    {
      "cell_type": "markdown",
      "source": [
        "Carlos quer monitorar seu orçamento mensal para evitar gastos excessivos. Ele estabeleceu um limite de R$ 3.000,00 para seus gastos e precisa de um programa que ajude a controlar suas despesas. O programa deve receber o total de despesas realizadas e informar se ele ultrapassou o limite ou ainda está dentro do orçamento.\n",
        "\n",
        "Saída esperada:\n",
        "\n",
        "![05.PNG](data:image/png;base64,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)"
      ],
      "metadata": {
        "id": "A-zdQyCnT0sO"
      }
    },
    {
      "cell_type": "code",
      "source": [
        "total_despesas = float(input('Digite o total de despesas do mês (R$): ').replace(',','.'))\n",
        "\n",
        "if total_despesas > 3000:\n",
        "  print('Atenção! Você ultrapassou o limite do orçamento')\n",
        "else:\n",
        "  print('Você está dentro do limite do orçamento')\n"
      ],
      "metadata": {
        "colab": {
          "base_uri": "https://localhost:8080/"
        },
        "id": "BBazrmDnTz2E",
        "outputId": "0b6ce4e4-5949-418e-da48-7962de2b446b"
      },
      "execution_count": null,
      "outputs": [
        {
          "output_type": "stream",
          "name": "stdout",
          "text": [
            "Digite o total de despesas do mês (R$): 5897,58\n",
            "Atenção! Você ultrapassou o limite do orçamento\n"
          ]
        }
      ]
    },
    {
      "cell_type": "markdown",
      "source": [
        "##06 - Controle de acesso ao escritório"
      ],
      "metadata": {
        "id": "Pk-4ictdUFH9"
      }
    },
    {
      "cell_type": "markdown",
      "source": [
        "Mariana é responsável por liberar o acesso ao escritório e precisa de um programa que verifique se os funcionários podem entrar. Para isso, ela usará o horário atual. O escritório só permite acesso entre 8h e 18h. Crie um programa que receba a hora atual como entrada (em formato de 24 horas) e exiba uma mensagem informando se o acesso é permitido ou negado.\n",
        "\n",
        "Saída esperada:\n",
        "\n",
        "![image.png](data:image/png;base64,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)"
      ],
      "metadata": {
        "id": "owPpBPg_UJj9"
      }
    },
    {
      "cell_type": "code",
      "source": [
        "hora_atual = int(input('Digite a hora atual (formato 24 horas): '))\n",
        "\n",
        "if 8 <= hora_atual <= 18:\n",
        "  print('Acesso permitido.')\n",
        "else:\n",
        "  print('Acesso negado.')"
      ],
      "metadata": {
        "colab": {
          "base_uri": "https://localhost:8080/"
        },
        "id": "6U2FzXYSUIqd",
        "outputId": "05c95da4-3227-4c08-ac50-9de9ebd82e82"
      },
      "execution_count": null,
      "outputs": [
        {
          "output_type": "stream",
          "name": "stdout",
          "text": [
            "Digite a hora atual (formato 24 horas): 21\n",
            "Acesso negado.\n"
          ]
        }
      ]
    },
    {
      "cell_type": "markdown",
      "source": [
        "##07 - Classificando estudantes por média"
      ],
      "metadata": {
        "id": "ZU496J6xUR01"
      }
    },
    {
      "cell_type": "markdown",
      "source": [
        "Uma professora precisa de um programa que ajude a calcular a média final dos alunos e informe se foram aprovados, ficaram de recuperação ou reprovados. As regras são:\n",
        "\n",
        "Média >= 7: Aprovado\n",
        "5 <= Média < 7: Recuperação\n",
        "Média < 5: Reprovado\n",
        "Escreva um programa que receba três notas como entrada e calcule a média final. Com base na média, exiba a situação do aluno.\n",
        "\n",
        "Saída esperada:\n",
        "\n",
        "![image.png](data:image/png;base64,iVBORw0KGgoAAAANSUhEUgAAAaYAAAB5CAYAAAByboVNAAAde0lEQVR4Ae1dPassRRN+4/1Dl/MrVPANVLyiIGikYiCCYqaicsFIA0UURAOjK9dEQzURMVG5clVUUPwAX9HIk8xLf1RPdXXVdM/s7Dm9s09w2LM7PdXVVU89T3fP7Ox/zs/PB/whBsAAMAAMAAO9YOA/vTgCP1AUwAAwAAwAAw4DECasGLFiBgaAAWCgKwxAmADIrgCJGTNmzMAAMABhgjBBmIABYAAY6AoDECYAsitAYraM2TIwAAxAmCBMECZgABgABrrCAIQJgOwKkJgtY7YMDAADECYIE4QJGAAGgIGuMDApTL/++uvw7rvvDm+//fbiv/fff3/466+/uho0ZmSYkQEDwAAw0C8GTGH6559/hvvvv3+47bbb9v576qmnIEyYkQEDwAAwAAw0YcAUpk8++cQL0n333Tc8+eSTi//uvvtub8etvjBD6XeGgtwgN8AAMNALBkxh+uCDD7ygvPLKK3sJytNPP+3tfP3113vZWTVg168Ou91u2F25NtzadwZz89pw5mztrg439rV1KudfRswuo89TySfG2Q+3bSQXpjD99ttvw/PPPz98/PHHewX9ww8/9NennL1VxWWfBFy0MEVSvHodMzKPgcsQicvocx+MLjkXOOuHY5bkD+ek/JnCVBORL7/8cvj333+ToVr7Qx6/8YBbsci/s+HazU6EAITRBU4OicEubHeJsxvD1aI2Q63On6jdGq5dkXW+G+bb6YQXIEQmLywSpq+++mq44447hjfeeMM0fJGF6oVJbMvdeunMi9XZS7cu38cuCQPFeZEYvZC+usRZEKZD1SHVOcRpW/W8SJjee+89f93I3bF348aNSyd+TZgcEYSVFFs50RYezeAesH3XV2G7YUfnRBJIKzUhjGP/5QyPzpHFREVGx/cp5sJ/8nvmLM3bceeK8ea+x5ms0i4bg7ChXuPzObo63Eht3bU7NlMW46jGLNmJeVDydE72a/772DFfIo6yMTbHNxC2i2M+Bu1apVx1MEwnnLfibI7/sV81Zq1EeFhhOj8/tP3WcaLdmpOvRcLktvCeffZZL06333778MUXXyRx+vvvv4fnnnuuuIvP3QQh7+579dVX03n7DMqTp1Y8kZRK4mBEqhBJIHVGEFHQSjsBjGb/ZDv6kZN5DuSiT9P3/Dwtbo7osr6InAWpa+fKz4JfjvRGMgxEOr5PxO6Jmn0e45b5EmNixsyfczacXXHxj6Rz5WxwsQ/9jnmZGzOzTxKmBv9vPMDG58ZSwYaM5/g+kr7rM+Ul4pJjWbFPQlbEtQlnM/yPffPcj/7XcRjaHlo4Dm2/dZxoNx8bdsxUYfr000+rX6h98803h//+979enO65557h559/TiLz/fffD/fee29aVbmV1Z133pm9f/TRR4c///wznbPPoEzCMQl5Spg0oCuEQaJDM1ZOJuyYH1eNMIzjkoj3jtGCOwcD+QsyI8FI26QxPoV9LZYBjGbOMiIO59PKKhPEBTEz+0zCNIpeiLXt/5iLaWyM7WQR5mOjdnnOLZwafRoxIdv6q2HLY1j3Ubcjx0fvo424uqTdgEJUZc00vg/4lHmjvvE6L1f9xEsVppdffjkTkZYv2T722GOZyHz77beDEyw6162s6P81RckF3iacWBRpRkqBtwr+PG1Z5aujifaT/cf+KoSRkxH5SLNxKQrseGPxuhiZfVRs6LGV8ZgiN91f3a4cc54/LkzmeLyw6TEz+yRhmppcTMTJtquPPZBFGFuOM5GniBvZxsxnBWeh39KnZf6Xdiz78vOQu51fBctjLe+9v0no9Fy32EGb5Tk8dOxWE6aPPvooEybnuBOnu+66KwmSE6aHH354+N///le03WegZmHFQh23SigRkljp8/AagM9mYXEWb83yzP6JzCqEkReavFawpPD0WeqS71rpY5Pxu3hhWhIzfSwu5zP8J0wlYpy6dpXjKsd4uzBpuOMinexWcObbreb/1Nhqx2bEm2rIeqXxFJPPmg84nnBjxfYSP1eFqcXhH3/8MYnOW2+9ZQrNN998M7inP7itvAcffHD4/fffzbYt/WptTMIxBUUSKwdpPCaIRyMH8sXsnxJbIQxz9k/nz3qNoiRm/0v70Mcm4zefaHS7K6yYJmJl9tkqTAYJ2nY5ruT/awgTmzy5cVdwRsflRG2Z/3I88977Pout33k2qP6WYpvOx+uyuB8ybouE6Y8//hgeeughvxJ64YUXqkLz3XffDc8888zw008/VdsuGaxeWCQwong9cUliZYmZ2AqyfNP7ZzaLazL8mCRjcWyCaFV/DDFeWrzq2AoCvHhhCjcdzFtNqmPheBBiLuMbYlj2adudymWDMJFgFqsBC7+6TRrHfP/1SQ7ZW/4a7RbjolqY91SWpdhe7v9UXnFsjbguEqbr1697UXrkkUcG97DXNRzZx0ZJDCRK1pfvrMJumHUqQlH2L8FJ/mgi6drWjkt7E++VWb33z68Arf5te+XYoq8ZiWuf2TZdrku7sX02McgJLCfW+TEz+6T4Z2NS/I+iP17zIR/mEWnAui4iBckqE408DtxP8sfI81z/Y/v97srj/rn/p30csVpOAFSOKMYk+8N7NW4Kj/XUbpEwuQG8+OKLwy+//HLpouR8GcHMrs8oszG1Xdyy41t1ofCZLdrWY8RlttlZF3UjyZKtXSmaqn/KOKoASoQSxuCItCC8RmC2+RTJhsVH87EpZt53IqUpYQqEU/OvqU8iy4r/bkzSnsON96Hh3DwmjcLk8iTyOX2tcBpn8/yPtmaPjYkBTZQY7uVWYhYXGqvaZzm26VgwPxrxnvmCcy6N3xcL01YTSIXLhcqPlQpsiVAcMcCXkS4IYav1gXEB2xeBAVOY3NPA3Rdi3feV9nHk9ddf93Zu3ry5l519fJhzbpiBa1shcbYGYTqKPM7JOdqCbIGBvjBgCtNnn33mryM98cQT/skO7ukOS/4ef/xxb+fzzz8/CkKzVky0ZVSspI54NdRSjFgx9VWwLTlDG+Ts2DFgCtMPP/zgBYW+FLvPq/ty7SFuEz9U8Emc6Fvq4VVbRW2/ACBM28/xoeoIdoGdpRgwhckZfO2111YRp3feeecoVktLg4jzUIDAADAADKyHgUlhcoF2K6clW3h0jvuCLRK2XsIQS8QSGAAGto6BqjBtPQAYH4ocGAAGgIG+MABh2vjNCyi4vgoO+UA+gIE6Bk5TmCa/xFcPWgYs+n7TSs/9ymxDNA+zDRxzdmp3WAJbM2sb9XeY+muIK4SpIUiTBd0iTCDCSwO4mrujy0f4Dt34KCQQrJrXfWsZ53dTp5sQJvqOUX57Nz3WpoMiPjoi7CBmhySJo8tH38Ikv14xW0BjPvL6ZY8EO7EvtUN0z4ftCJN4thYVy+wiOQQhHh0RQpj6IodehSk+DUXU3mqxQ910s4JZLaeN/LpZYXKBDCsptnKia0v0QMmJmZi+CtsN6QGUcpanFKdpI/Yvr3GQmNLMcR9RLfqeGGsVdHKs1vW0lvgWtmhmPObJ+y7jKUnKvw/nZGOV5/lCiARKeTfin9lxbRbGzNtx54qxyny7uMuc8z6LY8L/Ah8y/laetNpoJAyOFTVPC+xwm/z/kI/T/GI7j8Mp/r9pYSJiKAqYniZtEE9RELHgSzthZVEtUEmqSvEWfcZzrD6nwOoILSNBIkhjvFO21Bg6e8JWINFRXM7jb1Bxoi1t6T+BoMZTxpDGlD3NPQoQ9y22y+IobUWBWCtmIZdOcEdSLeOjjd1agYTPszFIDLkx8XETxpkPY55HoZ60Kfvg75UYjvZXWHFreeP94/9Nr6ZOQpgycvSAjqSQFTIVk0YC0z/roBIpL5xaERvHA5mN5LZP4RfCx/2b+t+LMhccihN/1WJGP9cwnquOJ4o+FwU1njJG8b3MrTxXvvcxlLaM8S+NWThvHLfapxVXJR4k8rNFRLUV8qb6aMRBxR35f/3acJat5C4Zr3PGgLbditu2hUmbtXswTghTJK2cBCba07aIuoUUybtChCphOz+p+G9yEVj2v9lHrThJAHaCaPl5lp9i3CrRK+f6djKewhatvrigOQLNzzUEU9riY2H/L41Z7oOOATUWvm/NZ+2zBhw0jlMVHhYH7XiIjfyBxFgn6iqtwV/qM/qd1+CM88kOXrsVHg1T/LNtC1MEuJxVp1/RVFdMdG2Kzfw8eZY/7EeBVImIF0WFIAJJ0bUW+TohCLyP7P9AZHStanxlY8ra14pe2svtJJLKZs7jOJJ4FISjr0TVeMoYyvdxPPm5BqGr58oxkv/5WCnnU6+5DzG2ok+1jR9D9CPDpjEOkUNvU8lBir9oPzWG2rGQcwWbYpw1O9rxMI75cdds4bNabfd5fNvCZArK1AqIZn1ETOF1qrhtktFJSRbL0pm5tBPeR2ITK47V+ogx5ddPmld26VwWW+GnG4MaT0l48v1ewrRuzFr8V9swYcpXC3Vh8vbkqtaIkY6bmQTlc3kAYYo+5+Of6duKArxKrODP7JXbhoWJBEabeU0Ik1VwE+CySYYKqkIsC/o0CyaSvxTS1YTJxUH620SAEzEXsdXiGfxnq1ajz/xcvc9A4szWyjHLfTAmJzKGFAP1c30cIwaisGarrPN0V6DEgjsvxEARFvKj9mrEv8BGshPHsGNxT8eoTsgvrWbHNuO48dlWY7FRYaoVwUShWwWnFBGBQiWirD35YxVc7fiMAoz+8+1LIuJslZP5Z9t3giCJLdjLx9JCdPU4BT+CCI2kSaLktiSTL0aeZB+qrStn/oK9tLVWzKQPHieFvzHn2YrREJiqkCj4iWKbxSzlPPaT3dFoY4BwLl9DzjkObP/pmqDfVpYCSn7FGGG1ND8XMjfH/n47wiT31hXwh0Ji20jsnERS2ndLqB0jEU6W4zWcYFsvrJEMqD3v0wFJ9U8ZRxV0jJRcX86f4C8nkXbwF36xOHBf1JhkbcsYNMXC2wjnppgVRB/G433N+hRx9fEUthwxrhgzzQci5uS/J2MSlBGTOnbc2GptRWxdDIwYjVgbxZ/ncc7/Ehst/ucxGHEYbO3v0xz/0XaMf0+x2IQwrRlQIteieGKR81n1mv1u31YkTiEabtwgpD7JYfuYRNx7zTGEibYR4msgSW1lEYl1yQpG9NErGA7q18Q2TZgMYKZ80PgDg7MvwCMflyfcECZRsNaKibYsipWUOB9gtsBsrJhoJaqspBBLK5b4HNjYNgYgTIqwkDjR9Y/wqq2itg2O9YtfXAeJ1+7s6xKI7/o5QEwR0/4xAGFShAnA7R+4yBFyBAxsFwMQJggT9t6BAWAAGOgKAxAmALIrQGIWvN1ZMHKL3LZiAMIEYYIwAQPAADDQFQYgTABkV4BsnVGhHWbfwMB2MXCawkTf8l/jFmW63XnfR/1DIA8rkMjTYeML/CK+K2IAwrRvMFsIL7Y52u9AHbv/LsctedoXC5d9/hbydNkxRP9dCOwmhIm+/Jp/76ijJwkcO2Ecu/+nQjbd5ql8zt9u0W6FYoc/2PdU8nwC49yOMAmg05dku/jyZreE0bhHfez+n0Ah++stXeZJe5SX8RSQBXmiOj/a3YgFYz6Fa2ubFSaXvOLhoHRtiZ4WPvHcO30VthvSQ1wjCaRVmhDGsf/xydGpbexfFhMVGbXbR1QL/yfGagG9sEFxM/yXT+hOsaLi8/EPK9nctv5UjZZ4VNs05Ck9udvFSLQvc1DO2ss2LYIfyNlhIB+DFgv5xIx8NyCPZYm3HGdz/F9BQFjOOc7CmLWxtsSOtwk+LssBt4P/eX4u+/9NCxORTAnaWJwGWYdCZ0UTBa20E8Ds2yvClJLbMJMt+oznWH0m20T67NUVfUZGRLbGeKds+WMN/gei4YQZSY33yScG6fOYiyx+RJ7cniPwq8O1myOBzI2ZnSfqz5E66zP6y2N54wF23MW8gg07tkxspmKh2Cch43615mmW/ylfYswMa/b4Yp6UGLpz7FyM+a3a9n5AmNriNDeul9v+JISpmLnTb9skQuBJ0ICuked4TrXIasRuHF9vVkmrRya2c8jF8G8sCC1mRNqM1BSSdTaKcfp27DzNV8OnwhY7184TCZOMjzEuZjOttjJhHbExxkh+FmzLay25/9GvAqcGHo2Y2D44nwxbfoy6j9P25DgJe+F3wdy5Pg98ApDFszx/qr9gS+Ztno0p+zh2ObHctjCdx8KyCrv4fLx7K1+pWAQRkmYTXkxqhTByMmJAaCHoxqI2+2g5v+K/+XPa8jxj9iyLvxpPTcxoHBMxs+1OkTPLB/UhXm27U+fqopflKcYvx2KwmbUjf2S86fPK6zL/p8amHIu5D9vU+wmJ9zdtK1cmMJWxS+zhvZK7S4jhtoUpFuq8FRPN6FjxVAi1WtgVwsgLTV4jWFJ4UZBT8ZJNNqY5YKv4H0iS+ihf05ZTJY6BFKYnAUQcS2Jm52mGMBGmZGwXrpik6GSCMxH30E5gY6I9xY22t+k6Znqd7X87gVGuAg5irPf8WfdiPNokcw7G0baL28Qpr9sWJpMIp8hvLJxUtJVbUm3Ci8VbIYyMjPYuEH37Za8+Kv6bKyY5FjMfOclV4zm1YpJ9sve23UZhinGQEx3bbj4uKrrw2r5iSsLOxqLms5anVf2fGtt4LPi5y695rrydp8aCxSqP++gbPu83FhsWJhIYbZUwIUyePMVMtALyOjHpJJQKY0Gf6Vzpm0H++xVvxf8aIZKPhm9yLMHXSg4WxMzOU5swWX7ZdqcKX49pnicLp9bnuk2K73z/gz15HYzstbz62CjXk4IvpWDRzSRz+sxjNhVzHGvJWQ9tNipMsXDNlY5V2OM1Jm2WaiWsTkzkjyaSrlhqx2cUlDIrDuTgttis/mv26/5ZBJTFrFGYzunaoPA3vyuv7lPWN83S1S2raEs9xmIT/R+338iH3TCHSINfuogUJKvEzBKYKo7m+h/bZ3cq0iSj9ZVsZFttUfBEfl1cRqxWJibUfzEmli9qg9eutulkXWrvtyNMcs8/K4QA1hH0E9dB0jZR2YaTD834+HYf/T8SFy8SKsbRrhQ/1T9lHFois8+IDGJMnD8F4c0u1rr/akw42Ue/5Lgz35NfjPTZOGTbWsxUnwp7jcKkYMONxfvAx5nGwPMv/28UJmdL5HN6gjGdJxmPaf+jrdljE2Mt/J8Qcmqr9lmObToWwo+mvOAcWWOX8X4TwrRm4KhwC/JUViJr9gtbIARgABgABgIGIExiFhVm4NqWV5ytLVnBiD4APhAQMAAMAAM2BiBMQjSsFRNtGRUrKXE+wGaDDbFBbIABYKAFAxAmRVhInOiaUXjVVlEAWQvI0AY4AQaAgTkYgDApwjQngGiLggMGgAFgYF0MQJggTEd3KylIYF0SQDwRz94wAGGCMEGYgAFgABjoCgMQJgCyK0D2NnODP1hNAAMXjwEIE4QJwgQMAAPAQFcYOGlhGu++qz/+xPx2P33xVnm8CmZaFz/TQswRc2Dg+DFwosJEjzapCxKBHMJ0/GCnXOIVuQQG+sbAJoRJ//Lr+Ky1Nb4UawpTx1sA44owPJ9Pf4bfBEDTanB8vl/23a74FAzZT9bGfJDuRL8dxxSEhrwBA4fHwKaEKfudHEaqpydMKz180xKIGNtaXINg4YvJILLDExlivK0Yb0CYwsro7KVrw1V2nceRYvhM/uYLbePRKkAnTnUVwJ94zITPrxD4MUno9MTk9AR0vU9XXGH1177FqBXkoVd3wUd7DMEnPFtQyw0+2xaBIp+HyeeGhOmWJ/WwXeVI0REnidatcMdJFBO+paWRrPmZIT6TQuD6zB78SluMGrGPosl9nAX+xtXMLJtcaJUYaraCsO8nsJpdfHYYIkBcEdeeMLApYfK/W+PEw61QvBjkwqQLSBCDJAQGsevnBjBPHVOTHVdQ2laYt6X84qdqhwsG/e9tnw3Xrl8bztIKza0ONSGcX4zBv5otrJaa80V5w2tXtysjf/O5Yc2YbUCYAgkGkndCdDacXaHtOy5MQoASEcQVTHYhvyTeKfGZOqYmyxA/tW3ysw0oaQsyW93FMe4rTlgtgTxn4nENTMNGW+1vKU4bE6bz8EutiZSZ6ERSlXeMpfcHFKawyqBrWuOrtmLaF1zmFtoKYojV0ukRxL54xPnAzBIMbE6Y8iAwYTq3Vkw5cAKxr7diCmQurrWsIBL5ONkYaCvvJvvMzXL37TOen7Y8jZmzKYxGe3McaI/VGTBwshg4fmGaJFwuTPx/Qdq8ADRij33s0kosP9/eyjOutUz4rAoZ96/2v2VbG5e3FeNS+b4RVkt5ziGoiAcwcDgMbFyY4u3XJCienHfD9KxfiklcaV05G+YLE5E+W4FFH9wWYrmVF/ve1XycBkQpInJM7HwSXXejRHb3YNlmOm5xG3WfGzdqoovjJzuDhgiwejyBOjgtYXIJ5USc7lrTt9rC9adwzG9RkcCdEwmP14vStapCVEax8W2cDWtVs9L3mFwRB3Ea/bNFhcRTE8pQDG2ruDhOFiOQyWmRCfKNfK+FgeMXphOYPayVbNgBcQADwMAxYADCBGHD9hAwAAwAA11hAMIEQHYFyGOYzcFHrDqAgcNiAMIEYYIwAQPAADDQFQYgTABkV4DETPSwM1HEF/E9BgxAmCBMECZgABgABrrCAIQJgOwKkMcwm4OPWHUAA4fFAIQJwgRhAgaAAWCgKwxAmADICiD5F4TjEyzcF4TxRdpK3A47o8SMHfHdMgYgTBCmaYJ1j1DKnrweniZhP0kChLFlwsDYgO+LwMA2hEl9zNB+z5u7iOCjDxQ5MAAMAAMlBjYlTPyhqOHnFyBOAH0JesQEMQEG+sbAZoXpPP7+UvlEcH7NxG1LsSd/Z9t648NN+cNcCdD67zYF23ybyz8A1W2FiVUdF9Hc5sSDV9lPV+QPaS3HkB+feHI4xSk90La05X+yPh23Y0aTgfRAW+tp5Vmc+y4Qyg1ekSdg4OIwsH1h4uQYxaEQDilOJCLZBf5bw7UHrg23IqnOEiZP6uMTzMO543sH+CAkTBQUXzOBSOOKAsp8dfYz4aPxpHMiwOgnOLLPbwxX+Xt3Ln9/ToLNfFU/w9PGQWQXR2SI9bZivVlhohUDJ2j/GSPwAGZjlVO0yxM/T5hyEaLVXBLIKBzcV+db0UcUknTepEjm/hbCR2KSiU5+jlns0Y/kL1vJZefIdlgpTd9ogvggPsCAx8CmhCltIfkVCp/RO8ItBSiQaFwBJIK22uWkXYiGB1R5ri6GeZ+6rfMhrJCYqO1B9EUfhhhmwmIViTi3FD2KVRmPJvtWv/gcxA0MnAQGNiVMNIMPJCxufIhkmovXeD2Hbomma0FkyyLSguh9wZRE3CJMgdiZL9n1nCXCFPwox8rE2lrlKIVv+Ucx0sc4TgZSbBXbVnzxOYk7XoGF08PAJoXpnLapsmtHpWjogG9rt6Yw6bYUMDatmKIoia3Iog+x6tFjQde+mDg6cRHn1oRJbj1afeFzJecQ85NYIQD7OfY3Kky0DcZXTfn2mQ2E2E4Qu2xfEL0jkCgcnIhV0hbEXmzZWWTUIkxGm9LfKGBpCzMHRhiv0abVf++LEDVrbPgcBAwMAAMRA9sVJm3VpAiHFBz/PrbLt6Dyu/JIhGg7i9677bNpYdKEL36WrfAUoTBEJxtDFA3u+7gVx7by0s0Vub/+WlwSK8Uvis1ux+7808ZkiBrIB+QDDAADFQxsWJj0FQxtQ+XXX5RZPRF8ut5TtgmrELo25Eg/EHQhTMlGbJuIPxefUUDIpvj+UYswuYQz8SChLFdMoe98DK7fXLzoppEUL7eSlCsmDzISsdF3HodMPCugRNscF4gH4nFqGNiGMHVMdOpWXm/+eiErhffUigHjhQAAA31gAMJ0YJE4BmHyq6bKNTUUbB8FizwgD6eAAQgThCk8dcLYXjyFIsAYQfbAQF8YgDBBmHAh9sAYAOn1RXrIR//5gDCBlCBMwAAwAAx0hQEIEwDZFSAxm+1/NoscIUeHxgCECcIEYQIGgAFgoCsMQJgAyK4AeeiZGOxjtg8M9I8BCBOECcIEDAADwEBXGIAwAZBdARKz2f5ns8gRcnRoDPwfNF51erXv28AAAAAASUVORK5CYII=)"
      ],
      "metadata": {
        "id": "x7c0tjchUXku"
      }
    },
    {
      "cell_type": "code",
      "source": [
        "nota_1 = float(input(\"Digite a primeira nota: \").replace(',','.'))\n",
        "nota_2 = float(input(\"Digite a segunda nota: \").replace(',','.'))\n",
        "nota_3 = float(input(\"Digite a terceira nota: \").replace(',','.'))\n",
        "media = (nota_1 + nota_2 + nota_3) / 3\n",
        "\n",
        "if media >= 7:\n",
        "  print(f'Você foi aprovado com média final de {media:.2f}')\n",
        "elif 5 <= media < 7:\n",
        "  print(f'Você está de recuperação com média final de {media:.2f}')\n",
        "else:\n",
        "  print(f'Você foi reprovado com média final de {media:.2f}')"
      ],
      "metadata": {
        "colab": {
          "base_uri": "https://localhost:8080/"
        },
        "id": "CLO-dnxGUWVF",
        "outputId": "4e82e9a0-b37c-4d2a-ef77-98278cfaa068"
      },
      "execution_count": null,
      "outputs": [
        {
          "output_type": "stream",
          "name": "stdout",
          "text": [
            "Digite a primeira nota: 5\n",
            "Digite a segunda nota: 6\n",
            "Digite a terceira nota: 8\n",
            "Você está de recuperação com média final de 6.33\n"
          ]
        }
      ]
    },
    {
      "cell_type": "markdown",
      "source": [
        "##08 - Calculando pedágio"
      ],
      "metadata": {
        "id": "IESZ7AYnUgSd"
      }
    },
    {
      "cell_type": "markdown",
      "source": [
        "Fernanda está planejando uma viagem e quer calcular quanto pagará de pedágio. O valor do pedágio depende da distância percorrida:\n",
        "\n",
        "\n",
        "\n",
        "*   Até 100 km: R$ 10,00\n",
        "\n",
        "*   Entre 100 km e 200 km: R$20,00\n",
        "\n",
        "*   Acima de 200 Km: R$ 30,00\n",
        "\n",
        "Crie um programa que receba a distância percorrida e informe o valor do pedágio correspondente.\n",
        "\n",
        "Saída esperada:\n",
        "\n",
        "![image.png](data:image/png;base64,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)"
      ],
      "metadata": {
        "id": "PX6kH9YLUkjV"
      }
    },
    {
      "cell_type": "code",
      "source": [
        "distancia = float(input(\"Digite a distância percorrida (em km): \").replace(',','.'))\n",
        "\n",
        "if distancia <= 100:\n",
        "  valor_pedagio = 10\n",
        "elif 100 < distancia <= 200:\n",
        "  valor_pedagio = 20\n",
        "else:\n",
        "  valor_pedagio = 30\n",
        "\n",
        "print(f'Valor do pedágio: R$ {valor_pedagio:.2f}')"
      ],
      "metadata": {
        "colab": {
          "base_uri": "https://localhost:8080/"
        },
        "id": "WlLMLXrzUjwl",
        "outputId": "5665ddd2-42d2-42f8-eb55-8c4af983a513"
      },
      "execution_count": null,
      "outputs": [
        {
          "output_type": "stream",
          "name": "stdout",
          "text": [
            "Digite a distância percorrida (em km): 250\n",
            "Valor do pedágio: R$ 30.00\n"
          ]
        }
      ]
    },
    {
      "cell_type": "markdown",
      "source": [
        "##09 - Verificando a paridade de um número"
      ],
      "metadata": {
        "id": "AL2hkS7tV7cY"
      }
    },
    {
      "cell_type": "markdown",
      "source": [
        "Lucas está desenvolvendo um jogo e precisa de uma funcionalidade que verifique se um número é par ou ímpar. Essa verificação será usada para definir ações diferentes dentro do jogo. Escreva um programa que receba um número inteiro e exiba uma mensagem informando se ele é par ou ímpar.\n",
        "\n",
        "Saída esperada:\n",
        "\n",
        "![image.png](data:image/png;base64,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)"
      ],
      "metadata": {
        "id": "SbDG2Gy5WC5n"
      }
    },
    {
      "cell_type": "code",
      "source": [
        "numero = int(input('Digite um número inteiro:'))\n",
        "\n",
        "if numero % 2 == 0:\n",
        "  print(f'O número {numero} é par.')\n",
        "else:\n",
        "  print(f'O número {numero} é ímpar.')"
      ],
      "metadata": {
        "colab": {
          "base_uri": "https://localhost:8080/"
        },
        "id": "zKrOxVVOWA03",
        "outputId": "43e6949e-5d9a-4b61-b5fc-31f55c906f86"
      },
      "execution_count": null,
      "outputs": [
        {
          "output_type": "stream",
          "name": "stdout",
          "text": [
            "Digite um número inteiro:20\n",
            "O número 20 é par.\n"
          ]
        }
      ]
    },
    {
      "cell_type": "markdown",
      "source": [
        "##10 - Aprovando empréstimo"
      ],
      "metadata": {
        "id": "xl1SaKU0WIlf"
      }
    },
    {
      "cell_type": "markdown",
      "source": [
        "Pedro quer solicitar um empréstimo, mas a aprovação depende de duas condições:\n",
        "\n",
        "* O valor da renda mensal precisa ser maior que R$ 2.000,00.\n",
        "\n",
        "* O valor da parcela não pode ultrapassar 30% da renda.\n",
        "\n",
        "Crie um programa que receba como entrada a renda mensal de Pedro e o valor da parcela desejada. O programa deve informar se o empréstimo foi aprovado ou negado com base nas condições acima.\n",
        "\n",
        "Saída esperada:\n",
        "\n",
        "![image.png](data:image/png;base64,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)"
      ],
      "metadata": {
        "id": "Q2qnAahtWM-3"
      }
    },
    {
      "cell_type": "code",
      "source": [
        "valor_renda = float(input('Digite o valor da sua renda mensal: ').replace(',','.'))\n",
        "valor_parcela = float(input('Digite o valor da parcela desejada: ').replace(',','.'))\n",
        "\n",
        "porcentagem_renda = (valor_parcela / valor_renda) * 100\n",
        "\n",
        "if porcentagem_renda <= 30:\n",
        "  print('Empréstimo aprovado!')\n",
        "else:\n",
        "  print('Empréstimo negado: parcela acima de 30% da renda.')"
      ],
      "metadata": {
        "colab": {
          "base_uri": "https://localhost:8080/"
        },
        "id": "Kv-CeVwS3SDV",
        "outputId": "e728e691-4955-4e48-8430-30bc9459bfe2"
      },
      "execution_count": null,
      "outputs": [
        {
          "output_type": "stream",
          "name": "stdout",
          "text": [
            "Digite o valor da sua renda mensal: 2500\n",
            "Digite o valor da parcela desejada: 800\n",
            "Empréstimo negado: parcela acima de 30% da renda.\n"
          ]
        }
      ]
    },
    {
      "cell_type": "code",
      "source": [],
      "metadata": {
        "id": "rwzlEHzo3_ow"
      },
      "execution_count": null,
      "outputs": []
    }
  ]
}